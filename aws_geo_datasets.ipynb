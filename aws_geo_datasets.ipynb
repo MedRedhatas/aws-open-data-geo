{
 "cells": [
  {
   "cell_type": "markdown",
   "id": "a89a128d-f74e-449f-adb6-e6e217df1c65",
   "metadata": {},
   "source": [
    "[![Colab](https://colab.research.google.com/assets/colab-badge.svg)](https://colab.research.google.com/github/giswqs/aws-open-data-geo/blob/master/aws_geo_datasets.ipynb)\n",
    "[![Binder](https://mybinder.org/badge_logo.svg)](https://mybinder.org/v2/gh/giswqs/aws-open-data-geo/HEAD?labpath=aws_geo_datasets.ipynb)\n",
    "[![License](https://img.shields.io/badge/License-MIT-yellow.svg)](https://opensource.org/licenses/MIT)"
   ]
  },
  {
   "cell_type": "code",
   "execution_count": null,
   "id": "0b655880-c912-48ad-8ade-10d9fe7e1812",
   "metadata": {},
   "outputs": [],
   "source": [
    "import pandas as pd"
   ]
  },
  {
   "cell_type": "code",
   "execution_count": null,
   "id": "63171939-2173-4948-ac8b-896d5bbff5c2",
   "metadata": {},
   "outputs": [],
   "source": [
    "url = 'https://github.com/giswqs/aws-open-data-geo/raw/master/aws_geo_datasets.tsv'\n",
    "df = pd.read_csv(url, sep='\\t')"
   ]
  },
  {
   "cell_type": "code",
   "execution_count": null,
   "id": "15c26beb-c5a1-4d72-8aea-a1399d1970ae",
   "metadata": {},
   "outputs": [],
   "source": [
    "df"
   ]
  }
 ],
 "metadata": {
  "kernelspec": {
   "display_name": "Python 3",
   "language": "python",
   "name": "python3"
  },
  "language_info": {
   "codemirror_mode": {
    "name": "ipython",
    "version": 3
   },
   "file_extension": ".py",
   "mimetype": "text/x-python",
   "name": "python",
   "nbconvert_exporter": "python",
   "pygments_lexer": "ipython3",
   "version": "3.9.13"
  }
 },
 "nbformat": 4,
 "nbformat_minor": 5
}
